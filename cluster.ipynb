{
 "cells": [
  {
   "cell_type": "code",
   "execution_count": 139,
   "metadata": {},
   "outputs": [],
   "source": [
    "import json\n",
    "\n",
    "import nltk\n",
    "from sklearn.feature_extraction.text import TfidfVectorizer, CountVectorizer\n",
    "from sklearn.cluster import KMeans, DBSCAN\n",
    "from sklearn.metrics import adjusted_rand_score\n",
    "from sklearn.feature_extraction import text\n",
    "from sklearn.metrics import silhouette_score\n",
    "import numpy as np\n",
    "\n",
    "\n",
    "\n",
    "\n",
    "\n",
    "\n",
    "\n",
    "\n"
   ]
  },
  {
   "cell_type": "code",
   "execution_count": 140,
   "metadata": {},
   "outputs": [],
   "source": [
    "with open('aneks.json') as file:\n",
    "    aneks = json.loads(file.read())\n",
    "\n",
    "full = []\n",
    "source = []\n",
    "names_aneks={}"
   ]
  },
  {
   "cell_type": "code",
   "execution_count": 141,
   "metadata": {},
   "outputs": [
    {
     "name": "stdout",
     "output_type": "stream",
     "text": [
      "10754\n",
      "43784\n"
     ]
    }
   ],
   "source": [
    "source = []\n",
    "full = []\n",
    "for anek in aneks:\n",
    "    if (\"attachments\" not in anek) and anek['text']!='':\n",
    "        all_a.append(anek['text'])\n",
    "        if anek['text'] not in source:\n",
    "            source.append(anek['text'])\n",
    "            full.append(normalize(anek['text']))\n",
    "print(len(full))\n",
    "print(len(all_a))"
   ]
  },
  {
   "cell_type": "code",
   "execution_count": 142,
   "metadata": {},
   "outputs": [],
   "source": [
    "# withount ngrams\n",
    "from sklearn.feature_extraction.text import TfidfVectorizer, CountVectorizer\n",
    "stopwords = text.ENGLISH_STOP_WORDS.union(nltk.corpus.stopwords.words('russian')+['это', 'тебе', '.', ',', ':', '-', '!', '?', '\"', '\\'', 'и', 'а'])\n",
    "vect = TfidfVectorizer(stop_words=stopwords)\n",
    "X = vect.fit_transform(full)\n"
   ]
  },
  {
   "cell_type": "code",
   "execution_count": 151,
   "metadata": {},
   "outputs": [
    {
     "name": "stdout",
     "output_type": "stream",
     "text": [
      "{-1: 9374, 0: 10, 1: 198, 2: 21, 3: 7, 4: 18, 5: 240, 6: 57, 7: 15, 8: 12, 9: 12, 10: 12, 11: 6, 12: 9, 13: 11, 14: 9, 15: 8, 16: 10, 17: 21, 18: 5, 19: 54, 20: 12, 21: 9, 22: 16, 23: 5, 24: 5, 25: 6, 26: 20, 27: 10, 28: 22, 29: 7, 30: 5, 31: 6, 32: 7, 33: 11, 34: 5, 35: 7, 36: 5, 37: 16, 38: 5, 39: 5, 40: 8, 41: 7, 42: 5, 43: 8, 44: 10, 45: 12, 46: 13, 47: 8, 48: 17, 49: 12, 50: 9, 51: 6, 52: 5, 53: 10, 54: 6, 55: 6, 56: 11, 57: 5, 58: 6, 59: 8, 60: 7, 61: 4, 62: 5, 63: 11, 64: 33, 65: 5, 66: 5, 67: 5, 68: 5, 69: 5, 70: 8, 71: 5, 72: 5, 73: 5, 74: 14, 75: 5, 76: 5, 77: 6, 78: 5, 79: 10, 80: 5, 81: 7, 82: 5, 83: 6, 84: 10, 85: 12, 86: 15, 87: 5, 88: 5, 89: 8, 90: 5, 91: 6, 92: 7, 93: 9, 94: 6, 95: 5, 96: 5, 97: 5, 98: 5, 99: 5}\n"
     ]
    }
   ],
   "source": [
    "\n",
    "model = DBSCAN(eps=0.9)\n",
    "result = model.fit_predict(X)\n",
    "unique, counts = np.unique(result, return_counts=True)\n",
    "print(dict(zip(unique, counts)))"
   ]
  },
  {
   "cell_type": "code",
   "execution_count": 152,
   "metadata": {},
   "outputs": [
    {
     "name": "stdout",
     "output_type": "stream",
     "text": [
      "100\n",
      "['— Ребе, я еду на курорт, я слышал, что девушки там одеваются не так скромно. Скажите, ребе — а можно мне смотреть на женщину, если она в мини–юбке или в блузке с декольте?\\n— Можно.\\n— А если она на пляже и в бикини?\\n— Можно.\\n— А если топлесс?\\n— Можно.\\n— Ребе, а есть такие вещи, на которые еврею нельзя смотреть?\\n— Есть.\\n— Какие?\\n— Например, электросварка.', 'Еврей в приходит к раввину: \\n \\n- Ребе, я еду отдохнуть на море, я слышал, что девушки там одеваются не так, как у нас в местечке. Скажите, ребе - а можно мне смотреть на женщину, если она в мини-юбке или в блузке с декольте? \\n- Можно. \\n- А если она на пляже и в бикини? \\n- Можно. \\n- А если топлесс? \\n- Можно. \\n- Ребе, ну а на что же еврею нельзя смотреть? \\n- На сварку.', 'Собрался еврей из местечка на отдых в Одессу. Приходит к равину посоветоваться.\\n- Ребе, еду в Одессу, на море. А там ведь не как у нас в местечке, там девушки ходят в мини юбках и декольте. Мне можно на них смотреть?\\n- Можно, отвечает равин.\\n- Ребе, а на пляже они загорают в бикини. Можно мне на них смотреть?\\n- Можно.\\n- Ребе, а некоторые девушки, загорают топлес. Мне и на них можно смотреть?\\n- Можно.\\n- Ребе, а на что ж тогда, например, нельзя смотреть правоверному еврею?\\n- На электро-сварку...', 'Приходит еврей в синагогу и говорит:\\n– Ребе, я согрешил, я отымел жену в зад. Это большой грех?\\n– Большой! – говорит ребе.\\n– Как мне его искупить?\\n– Только одно средство: берешь автомат, идешь на арабо-израильскую границу и убиваешь одного араба, – грех тут же списывается.\\nНа следующей неделе приходит снова этот еврей:\\n– Ребе, я снова согрешил, я снова взял жену аналом.\\n– Ну, а чего ты ко мне пришел? Иди на границу, убей араба – грех автоматически спишется.\\nПрошло пару месяцев. Приходит к ребе жена того еврея и спрашивает:\\n– Скажите мне, ребе, долго вы таки будете решать арабо-израильский конфликт через мою жопу?', 'Приходит еврей в синагогу и говорит: \\n- Ребе, я согрешил, я отымел жену в зад. Это большой грех? \\n- Большой! - говорит Ребе. \\n- Как мне его искупить? \\n- Только одно средство: берешь автомат, идешь на арабо-израильскую \\nграницу и убиваешь одного араба, - грех тут же списывается. \\nНа следующей неделе приходит снова этот еврей: \\n- Ребе, я снова согрешил, я снова взял жену аналом. \\n- Ну, а чего ты ко мне пришел? Иди на границу, убей араба - грех \\nавтоматически спишется. \\nПрошло пару месяцев. Приходит к ребе жена того еврея и спрашивает: \\n- Скажите мне, ребе, почему вы таки-решили урегулировать \\nарабо-израильский конфликт через мою жопу?', 'Приходит молодой еврей к ребе и спрашивает:\\n— Скажите, что делать? Сам я бедный, люблю одну девушку, но она тоже бедная. Вот мы поженимся, а ни вам помочь, ни родителям, будем плодить эту бедность... Зачем? Вот есть ещё одна богатая девушка, я её не люблю, но она меня любит. Может, на ней жениться? Вам будем помогать, другим будем помогать, детки родятся - тоже всё у них будет... \\n— Женись на богатой! \\nОпять он приходит через месяц:\\n— Ребе, ну я вот подумал... Что я женюсь на богатой, если я её не люблю? Мы же будем мучиться! \\n— Ну тогда на бедной женись! \\nПриходит тот еврей опять к ребе через месяц и говорит:\\n— Ребе, вы знаете, я тут опять подумал... \\nА ребе ему отвечает:\\n— А ты не думал обратиться в православие?', 'Еврей  приходит к раввину: \\n-Ребе, я еду в Одессу, курортный город, я слышал, что девушки там одеваются не так, как у нас. Скажите, ребе - а можно мне смотреть на женщину, если она в мини-юбке или в блузке с декольте? \\n-Можно. \\n-А если она на пляже и в бикини? \\n-Можно. \\n-А если топлесс? \\n-Можно. \\n-Ребе, а есть такие вещи, на которые еврею нельзя смотреть? \\n-Есть. \\n-Какие, ребе? \\n-Например, электросварка.', 'Хоронят еврея. Ребе говорит: «Пусть кто-нибудь скажет добрые слова о покойном». Все молчат.\\nРебе: «Пусть кто-нибудь скажет добрые слова!». Молчание. Ребе: «Кто-то обязательно должен сказать!».\\n\\nOдин, наконец, соглашается:\\n\\n\"У усопшего был брат. Так он был еще хужe!\"', 'Еврей у раввина: –Ребе, еду в большой город, я слышал, шо там женщины в мини–юбках — скажите, я могу на них смотреть? –Можете. –Ребе, вы понимаете, город у моря, я слыхал, там могут быть женщины и в бикини — а на них я могу смотреть? –Можете.. –Ой, ребе, скажите тока честно: есть ли что–либо, на что еврею смотреть нельзя? –Конечно! Например, электросварка..', 'Шмуля спрашивает Ребе:\\nРебе, а зачем вам машинка для стрижки? \\nА Ребе ему отвечает :\\nА Шо бы, жопу брить, Шмуля.', 'Приходит к Ребе бедный деревенский еврей. Говорит:\\n-Ребе, у меня есть две чудесные курочки, белая и чёрная, они очень друг друга любят, всё время вместе, дружат так прямо душа в душу. Какую же из них мне зарубить на Рош-а-Шану? \\nРебе, подумав немного:\\n-Ну, заруби белую.\\n-Но как же тогда быть чёрненькой курочке, она же так расстроится, будет плакать и грустить, я не могу убить белую курочку!\\n-Ну, убей тогда чёрную.\\n-Но как же? Тогда сильно расстроится белая, ведь они так сильно дружат, она не будет находить себе места!\\n-Ну, убей обеих тогда.\\n-Но я не могу, Ребе, они так мне дороги! Я умру от горя!\\nКороче, так продолжается какое-то время, потом Ребе говорит:\\n-Убей белую курицу.\\n-Ребе, но как же чёрная?!\\n-Да хуй с ней.', 'Еврей приходит к ребе и спрашивает: «На ком жениться? На бедной или на богатой?». Ребе говорит: «Женись на богатой». Через месяц еврей снова приходит к ребе: «Что-то не то, может, жениться на бедной?». Ребе говорит: «Женись на бедной». Через месяц снова у ребе: «Опять что-то не то». Тогда мудрый ребе говорит: «А не хотел бы ты перейти в православие?».']\n"
     ]
    }
   ],
   "source": [
    "aneks_clusters = {}\n",
    "labels = model.labels_\n",
    "n_clusters_ = len(set(labels)) - (1 if -1 in labels else 0)\n",
    "print(n_clusters_)\n",
    "for C in range(-1, n_clusters_):\n",
    "    used = []\n",
    "    with open(\"nouns-{}.txt\".format(C), \"w\") as F:\n",
    "        for i in range(len(full)):\n",
    "            if result[i] == C:\n",
    "                if C in aneks_clusters:\n",
    "                    aneks_clusters[C].append(source[i])\n",
    "                else:\n",
    "                    aneks_clusters[C]=[source[i]]\n",
    "                F.write(source[i] + \"\\n\\n\\n\")\n",
    "print(aneks_clusters[8])\n",
    "    "
   ]
  },
  {
   "cell_type": "code",
   "execution_count": 137,
   "metadata": {},
   "outputs": [],
   "source": [
    "import pymorphy2\n",
    "from sklearn.feature_extraction import text\n",
    "morph = pymorphy2.MorphAnalyzer()\n",
    "import nltk\n",
    "from nltk.tokenize import TweetTokenizer\n",
    "\n",
    "\n",
    "def normalize(text_to_n):\n",
    "    global names_aneks\n",
    "    text_to_n = text_to_n.replace('анек', 'анекдот').replace('-', ' ')\n",
    "    tokenizer = TweetTokenizer()\n",
    "    result = \"\"\n",
    "    names = set()\n",
    "    words = tokenizer.tokenize(text_to_n)\n",
    "    stopwords = text.ENGLISH_STOP_WORDS.union(nltk.corpus.stopwords.words('russian')+['это', 'тебе', '.', ',', ':', '-', '!', '?', '\"', '\\'', 'и', 'а'])\n",
    "    for word in words:\n",
    "        if word not in stopwords:\n",
    "            parsed = morph.parse(word)[0]\n",
    "            if 'NOUN' in parsed.tag:\n",
    "                result += parsed.normal_form+\" \"\n",
    "    return result"
   ]
  },
  {
   "cell_type": "code",
   "execution_count": 115,
   "metadata": {},
   "outputs": [
    {
     "name": "stdout",
     "output_type": "stream",
     "text": [
      "Collecting pymorphy2\n",
      "  Using cached https://files.pythonhosted.org/packages/a3/33/fff9675c68b5f6c63ec8c6e6ff57827dda28a1fa5b2c2d727dffff92dd47/pymorphy2-0.8-py2.py3-none-any.whl\n",
      "Collecting docopt>=0.6 (from pymorphy2)\n",
      "Collecting dawg-python>=0.7 (from pymorphy2)\n",
      "  Using cached https://files.pythonhosted.org/packages/6a/84/ff1ce2071d4c650ec85745766c0047ccc3b5036f1d03559fd46bb38b5eeb/DAWG_Python-0.7.2-py2.py3-none-any.whl\n",
      "Collecting pymorphy2-dicts<3.0,>=2.4 (from pymorphy2)\n",
      "  Using cached https://files.pythonhosted.org/packages/02/51/2465fd4f72328ab50877b54777764d928da8cb15b74e2680fc1bd8cb3173/pymorphy2_dicts-2.4.393442.3710985-py2.py3-none-any.whl\n",
      "Installing collected packages: docopt, dawg-python, pymorphy2-dicts, pymorphy2\n",
      "Successfully installed dawg-python-0.7.2 docopt-0.6.2 pymorphy2-0.8 pymorphy2-dicts-2.4.393442.3710985\n"
     ]
    }
   ],
   "source": [
    "!pip install pymorphy2"
   ]
  },
  {
   "cell_type": "markdown",
   "metadata": {},
   "source": [
    "For n_clusters=7, The Silhouette Coefficient is 0.010061492880524483\n",
    "For n_clusters=8, The Silhouette Coefficient is 0.010920030541936125\n",
    "For n_clusters=9, The Silhouette Coefficient is 0.011205732753257733\n",
    "For n_clusters=10, The Silhouette Coefficient is 0.011409887543775784\n",
    "For n_clusters=11, The Silhouette Coefficient is 0.011877082976872193\n",
    "For n_clusters=12, The Silhouette Coefficient is 0.012034316272928511\n",
    "For n_clusters=13, The Silhouette Coefficient is 0.013062573266366295\n",
    "For n_clusters=14, The Silhouette Coefficient is 0.013088960566806345\n",
    "For n_clusters=15, The Silhouette Coefficient is 0.013373067097145249\n",
    "For n_clusters=16, The Silhouette Coefficient is 0.013940559815239683\n",
    "For n_clusters=17, The Silhouette Coefficient is 0.01480341096653649\n",
    "For n_clusters=18, The Silhouette Coefficient is 0.01455557370823081\n",
    "For n_clusters=19, The Silhouette Coefficient is 0.01496585728700298\n",
    "For n_clusters=20, The Silhouette Coefficient is 0.015373245533247915\n",
    "For n_clusters=21, The Silhouette Coefficient is 0.015263296743845437\n",
    "For n_clusters=22, The Silhouette Coefficient is 0.015895298648375328\n",
    "For n_clusters=23, The Silhouette Coefficient is 0.016112882458433155\n",
    "For n_clusters=24, The Silhouette Coefficient is 0.015975250361236676\n",
    "For n_clusters=25, The Silhouette Coefficient is 0.01616270620354599\n",
    "For n_clusters=26, The Silhouette Coefficient is 0.015605088939544112\n",
    "For n_clusters=27, The Silhouette Coefficient is 0.01785271519630537\n",
    "For n_clusters=28, The Silhouette Coefficient is 0.017339685162316525\n",
    "For n_clusters=29, The Silhouette Coefficient is 0.018319018672883127\n",
    "For n_clusters=30, The Silhouette Coefficient is 0.018421742848094967\n",
    "For n_clusters=31, The Silhouette Coefficient is 0.01868218631890221\n",
    "For n_clusters=32, The Silhouette Coefficient is -0.004095727113227382\n",
    "For n_clusters=33, The Silhouette Coefficient is 0.01804964558591296\n",
    "For n_clusters=34, The Silhouette Coefficient is 0.018650022372136314\n",
    "For n_clusters=35, The Silhouette Coefficient is 0.019156552206185846\n",
    "For n_clusters=36, The Silhouette Coefficient is 0.01795673281475781\n",
    "For n_clusters=37, The Silhouette Coefficient is 0.021060246828426433\n",
    "For n_clusters=38, The Silhouette Coefficient is 0.02026362902456489\n",
    "For n_clusters=39, The Silhouette Coefficient is 0.02137843170772625\n",
    "For n_clusters=40, The Silhouette Coefficient is 0.0201536533518736\n",
    "For n_clusters=41, The Silhouette Coefficient is 0.020351825888301287\n",
    "For n_clusters=42, The Silhouette Coefficient is 0.02058212943945563\n",
    "For n_clusters=43, The Silhouette Coefficient is -0.006767131632652018\n",
    "For n_clusters=44, The Silhouette Coefficient is 0.022420318258019937\n",
    "For n_clusters=45, The Silhouette Coefficient is 0.021965530746545826\n",
    "For n_clusters=46, The Silhouette Coefficient is 0.020036476847443703\n",
    "For n_clusters=47, The Silhouette Coefficient is 0.02055232368525555\n",
    "For n_clusters=48, The Silhouette Coefficient is 0.02167008063895293\n",
    "For n_clusters=49, The Silhouette Coefficient is 0.023081063755350014\n",
    "For n_clusters=50, The Silhouette Coefficient is 0.021635993178514584\n",
    "For n_clusters=51, The Silhouette Coefficient is -0.004460050418390375\n",
    "For n_clusters=52, The Silhouette Coefficient is 0.02281362672992794\n",
    "For n_clusters=53, The Silhouette Coefficient is 0.022263294209234005\n",
    "For n_clusters=54, The Silhouette Coefficient is 0.021923787639207777\n",
    "For n_clusters=55, The Silhouette Coefficient is -0.011403821377354113\n",
    "For n_clusters=56, The Silhouette Coefficient is 0.023337317071652697\n",
    "For n_clusters=57, The Silhouette Coefficient is 0.022558970368341733\n",
    "For n_clusters=58, The Silhouette Coefficient is 0.024344885915585954\n",
    "For n_clusters=59, The Silhouette Coefficient is -0.009895913227486416\n",
    "For n_clusters=60, The Silhouette Coefficient is 0.022864246275411095"
   ]
  }
 ],
 "metadata": {
  "kernelspec": {
   "display_name": "Python 3",
   "language": "python",
   "name": "python3"
  },
  "language_info": {
   "codemirror_mode": {
    "name": "ipython",
    "version": 3
   },
   "file_extension": ".py",
   "mimetype": "text/x-python",
   "name": "python",
   "nbconvert_exporter": "python",
   "pygments_lexer": "ipython3",
   "version": "3.7.1"
  }
 },
 "nbformat": 4,
 "nbformat_minor": 2
}
